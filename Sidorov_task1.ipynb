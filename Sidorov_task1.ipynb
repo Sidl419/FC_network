{
  "cells": [
    {
      "cell_type": "markdown",
      "metadata": {
        "id": "BoqQJq29wtzu"
      },
      "source": [
        "# Задача 1\n"
      ]
    },
    {
      "cell_type": "code",
      "execution_count": 1,
      "metadata": {
        "id": "sjNZm0bLmI-m"
      },
      "outputs": [],
      "source": [
        "import torch\n",
        "import torch.nn as nn\n",
        "\n",
        "import os, os.path\n",
        "import time\n",
        "from glob import glob\n",
        "\n",
        "from PIL import Image, ImageFile\n",
        "ImageFile.LOAD_TRUNCATED_IMAGES = True\n",
        "\n",
        "import numpy as np\n",
        "import matplotlib.pyplot as plt\n",
        "\n",
        "from torchvision.models import vgg13\n",
        "from torch.utils.data import Dataset, DataLoader, random_split\n",
        "from torchvision import transforms"
      ]
    },
    {
      "cell_type": "code",
      "execution_count": 3,
      "metadata": {
        "colab": {
          "base_uri": "https://localhost:8080/"
        },
        "id": "1fhAQ2ghmKsL",
        "outputId": "77ade1a7-e2bc-4789-ce40-959a9a9b444e"
      },
      "outputs": [
        {
          "name": "stdout",
          "output_type": "stream",
          "text": [
            "Drive already mounted at /content/drive/; to attempt to forcibly remount, call drive.mount(\"/content/drive/\", force_remount=True).\n"
          ]
        }
      ],
      "source": [
        "# задание выполнялось на google colab\n",
        "\n",
        "from google.colab import drive\n",
        "drive.mount('/content/drive/')"
      ]
    },
    {
      "cell_type": "markdown",
      "metadata": {
        "id": "ZrLK0FMfxgFT"
      },
      "source": [
        "## Подготовка данных\n",
        "\n",
        "Для начала напишем класс для загрузки и распределения по классам исходных изображений. Во время работы этот класс опирается на исходную структуру директории с данными."
      ]
    },
    {
      "cell_type": "code",
      "execution_count": 4,
      "metadata": {
        "id": "UhBQ8Npkp0-Q"
      },
      "outputs": [],
      "source": [
        "class ArtistsDataset(Dataset):\n",
        "    def __init__(self, images_dir, transforms=None):\n",
        "        self.images = []\n",
        "        self.classes = []\n",
        "\n",
        "        for class_num, dirname in enumerate(sorted(os.listdir(images_dir))):\n",
        "            full_dirname = os.path.join(images_dir, dirname)\n",
        "            for filename in sorted(os.listdir(full_dirname)):\n",
        "                self.images.append(Image.open(os.path.join(full_dirname, filename)))\n",
        "                self.classes.append(class_num)\n",
        "\n",
        "        self.length = len(self.classes)\n",
        "        self.transforms = transforms\n",
        "        \n",
        "    def __len__(self):\n",
        "        return self.length\n",
        "                   \n",
        "    def __getitem__(self, idx):\n",
        "        image = self.images[idx]\n",
        "        class_num = self.classes[idx]\n",
        "\n",
        "        if self.transforms is not None:\n",
        "            for transform in self.transforms:\n",
        "                image = transform(image)\n",
        "\n",
        "        image = transforms.ToTensor()(image).unsqueeze_(0)[0]\n",
        "        image = transforms.Normalize(mean=[0.485, 0.456, 0.406], std=[0.229, 0.224, 0.225])(image)\n",
        "\n",
        "        return (image, class_num)"
      ]
    },
    {
      "cell_type": "markdown",
      "metadata": {
        "id": "aUdw6Vy5FGoN"
      },
      "source": [
        "Задание выполнялось на гуглколабе, поэтому я смог позволить себе обучение изображений размера $128 \\times 128$. \n",
        "\n",
        "Кроме того, я решил добавить в датасет случайное горизонтальное отражение изображения, потому что подобное преобразование, очевидно, не меняет класс изображения и имеет смысл в контексте картины. Остальные аугментации показались мне излишними по перечисленным выше причинам.\n",
        "\n",
        "Преобразование к тензору и последующая нормализация уже встроены в класс датасета."
      ]
    },
    {
      "cell_type": "code",
      "execution_count": 5,
      "metadata": {
        "id": "t54beXyos2f4"
      },
      "outputs": [],
      "source": [
        "DATA_PATH = '/content/drive/MyDrive/BostonGene/Задание 1/images/'\n",
        "\n",
        "full_dataset = ArtistsDataset(DATA_PATH, transforms=[transforms.Resize((128,128)), transforms.RandomHorizontalFlip()])"
      ]
    },
    {
      "cell_type": "markdown",
      "metadata": {
        "id": "6O6DsxVTD0Ma"
      },
      "source": [
        "После выгрузки датасета разделим его на обучение и контроль для обучения нашей нейронной сети."
      ]
    },
    {
      "cell_type": "code",
      "execution_count": 6,
      "metadata": {
        "colab": {
          "base_uri": "https://localhost:8080/"
        },
        "id": "FEfcthT1mMr7",
        "outputId": "4b94d4ef-c7cb-4ef8-c515-dae5c59b1941"
      },
      "outputs": [
        {
          "name": "stdout",
          "output_type": "stream",
          "text": [
            "Train size:  996\n",
            "Test size:  426\n"
          ]
        }
      ],
      "source": [
        "test_size = int(len(full_dataset) * 0.3)\n",
        "train_size = len(full_dataset) - test_size\n",
        "train_dataset, test_dataset = random_split(full_dataset, [train_size, test_size])\n",
        "\n",
        "print('Train size: ', train_size)\n",
        "print('Test size: ', test_size)"
      ]
    },
    {
      "cell_type": "markdown",
      "metadata": {
        "id": "2qN2FGLjEJnw"
      },
      "source": [
        "Загрузим обучающую и тестовую выборки в DataLoader'ы и поместим их в словарь для облегчения дальнейшего доступа."
      ]
    },
    {
      "cell_type": "code",
      "execution_count": 7,
      "metadata": {
        "id": "sWefjcPlGObo"
      },
      "outputs": [],
      "source": [
        "train_data_loader = DataLoader(train_dataset, batch_size=16, shuffle=True, num_workers=2)\n",
        "test_data_loader = DataLoader(test_dataset, batch_size=16, num_workers=2)\n",
        "\n",
        "image_loaders = {'train':train_data_loader, 'val':test_data_loader}"
      ]
    },
    {
      "cell_type": "markdown",
      "metadata": {
        "id": "kPbqOVzaxubG"
      },
      "source": [
        "## Настройка модели\n",
        "\n",
        "Для решения задания мною была выбрана классическая архитектура **VGG13** с некоторыми изменениями.\n",
        "\n",
        "Я модифицировал блок `classifier` так, чтобы сеть могла обрабатывать изображения проивольной формы (в нашем случае $128 \\times 128$), а не только формата $224 \\times 224$, как в оригинале. Разумеется, выход сети был адаптирован под количество классов (в нашей задаче их $8$).\n",
        "\n",
        "Также я измненил предпоследнюю размерность признакового пространства в сети на $128$ (в оригинале $1024$) для решения дополнительного задания. Это несильно повлияло на качество сети, однако в дальнейшем поможет нам смягчить эффекты проклятия размерности во время кластреризации эмбедингов.\n",
        "\n",
        "Остальные элементы сети не подверглись изменениям. Отмечу, что я использовал предобученный `feature_extractor` как основу алгоритма. Исходный датасет состоит из $1422$ изображений, чего недостаточно для обучения с нуля такой крупной сети как **VGG13**."
      ]
    },
    {
      "cell_type": "code",
      "execution_count": 58,
      "metadata": {
        "id": "RhTOuqkfzttt"
      },
      "outputs": [],
      "source": [
        "class VGG_modified(nn.Module):\n",
        "    def __init__(self, num_classes, feature_output, pretrained=True):\n",
        "        super().__init__()\n",
        "        self.feature_extractor = vgg13(pretrained=pretrained).features\n",
        "        self.classifier = nn.Sequential(\n",
        "            nn.Linear(feature_output, 4096, bias=True),\n",
        "            nn.ReLU(True),\n",
        "            nn.Dropout(p=0.5, inplace=False),\n",
        "            nn.Linear(4096, 128, bias=True),\n",
        "            nn.ReLU(True),\n",
        "            nn.Dropout(p=0.5, inplace=False),\n",
        "            nn.Linear(128, num_classes, bias=True)\n",
        "        )\n",
        "\n",
        "    def forward(self, x):\n",
        "        x = self.feature_extractor(x)\n",
        "        x = x.view(x.size(0), -1)\n",
        "        x = self.classifier(x)\n",
        "        return x"
      ]
    },
    {
      "cell_type": "markdown",
      "metadata": {
        "id": "vL19C4BWLAYD"
      },
      "source": [
        "Рассматриваемые параметры обучения были подобранны эмпирическим путём. Размерность же входа `classifier`'а вычисляется отдельно для каждого датасета."
      ]
    },
    {
      "cell_type": "code",
      "execution_count": 62,
      "metadata": {
        "colab": {
          "base_uri": "https://localhost:8080/"
        },
        "id": "_5-KtDVGHTz6",
        "outputId": "93a5bf12-01ca-4f1e-830c-fabce7a7c5e7"
      },
      "outputs": [
        {
          "name": "stdout",
          "output_type": "stream",
          "text": [
            "cuda:0\n"
          ]
        }
      ],
      "source": [
        "import torch.optim as optim\n",
        "from torch.optim import lr_scheduler\n",
        "\n",
        "num_epochs = 25\n",
        "lr = 5 * 1e-6\n",
        "weight_decay = 1e-1\n",
        "step_size = 5\n",
        "gamma = 0.001\n",
        "\n",
        "input_test = vgg13()\n",
        "output = input_test.features(next(iter(train_data_loader))[0])\n",
        "\n",
        "feature_output = output.view(output.size(0), -1).shape[1]\n",
        "num_classes = len(np.unique(full_dataset.classes))\n",
        "model = VGG_modified(num_classes, feature_output)\n",
        "\n",
        "my_device = torch.device('cuda:0' if torch.cuda.is_available() else 'cpu')\n",
        "print(my_device)"
      ]
    },
    {
      "cell_type": "markdown",
      "metadata": {
        "id": "JWc9mSwJx7HQ"
      },
      "source": [
        "## Обучение модели\n",
        "\n",
        "Процесс обучения в целом весьма стандартный. В качестве лосса была выбрана кросс-энтропия, в качестве метрики точность. Функция обучения поддерживает логирование по эпохам: значения лосса и метрики на обучении и контроле для каждой эпохи как выводится на экран, так и записывается в список."
      ]
    },
    {
      "cell_type": "code",
      "execution_count": 34,
      "metadata": {
        "id": "WeTglVdaEfX8"
      },
      "outputs": [],
      "source": [
        "def train_model(model, dataloaders, criterion, num_epochs=10, device='cpu'):\n",
        "    since = time.time()\n",
        "\n",
        "    optimizer = optim.Adam(model.parameters(), lr=lr, weight_decay=weight_decay)\n",
        "    scheduler = lr_scheduler.StepLR(optimizer, step_size=step_size, gamma=gamma)\n",
        "    model = model.to(device)\n",
        "\n",
        "    val_acc_history = []\n",
        "    val_loss_history = []\n",
        "\n",
        "    for epoch in range(num_epochs):\n",
        "        print('Epoch {}/{}'.format(epoch, num_epochs - 1))\n",
        "        print('-' * 10)\n",
        "\n",
        "        for phase in ['train', 'val']:\n",
        "            if phase == 'train':\n",
        "                model.train()\n",
        "            else:\n",
        "                model.eval()\n",
        "\n",
        "            running_loss = 0.0\n",
        "            running_corrects = 0\n",
        "\n",
        "            for inputs, labels in dataloaders[phase]:\n",
        "                inputs = inputs.to(device)\n",
        "                labels = labels.to(device)\n",
        "\n",
        "                optimizer.zero_grad()\n",
        "\n",
        "                outputs = model(inputs)\n",
        "                loss = criterion(outputs, labels)\n",
        "                _, preds = torch.max(outputs, 1)\n",
        "\n",
        "                if phase == 'train':\n",
        "                    loss.backward()\n",
        "                    optimizer.step()\n",
        "\n",
        "                running_loss += loss.item() * inputs.size(0)\n",
        "                running_corrects += torch.sum(preds == labels.data)\n",
        "\n",
        "            epoch_loss = running_loss / len(dataloaders[phase].dataset)\n",
        "            epoch_acc = running_corrects.double() / len(dataloaders[phase].dataset)\n",
        "\n",
        "            print('{} Loss: {:.4f} Acc: {:.4f}'.format(phase, epoch_loss, epoch_acc))\n",
        "\n",
        "            if phase == 'val':\n",
        "                val_acc_history.append(epoch_acc)\n",
        "                val_loss_history.append(epoch_loss)\n",
        "\n",
        "        print()\n",
        "\n",
        "    time_elapsed = time.time() - since\n",
        "    print('Training complete in {:.0f}m {:.0f}s'.format(time_elapsed // 60, time_elapsed % 60))\n",
        "\n",
        "    return val_loss_history, val_acc_history, time_elapsed"
      ]
    },
    {
      "cell_type": "markdown",
      "metadata": {
        "id": "lwk4iCzoNq2p"
      },
      "source": [
        "Функция, представленная ниже, выводит графики лосса и метрики по входным массивам."
      ]
    },
    {
      "cell_type": "code",
      "execution_count": 35,
      "metadata": {
        "id": "9etPaRpWHpUm"
      },
      "outputs": [],
      "source": [
        "def show_progress(loss, metric, loss_title, metric_title):\n",
        "    fig, ax = plt.subplots(1, 2)\n",
        "    fig.set_figwidth(15)\n",
        "\n",
        "    plt.subplot(1, 2, 1)\n",
        "    plt.plot(np.arange(len(loss)), loss, 'r', linewidth=2)\n",
        "\n",
        "    plt.xlabel('epoch', fontsize=14)\n",
        "    plt.ylabel('mean loss', fontsize=14)\n",
        "    plt.yticks(fontsize=12)\n",
        "    plt.xticks(fontsize=12)\n",
        "    plt.title(loss_title, fontsize=14)\n",
        "    \n",
        "    plt.grid()\n",
        "\n",
        "    plt.subplot(1, 2, 2)\n",
        "    plt.plot(np.arange(len(metric)), metric, 'b', linewidth=2)\n",
        "\n",
        "    plt.xlabel('epoch', fontsize=14)\n",
        "    plt.ylabel('criterion', fontsize=14)\n",
        "    plt.yticks(fontsize=12)\n",
        "    plt.xticks(fontsize=12)\n",
        "    plt.title(metric_title, fontsize=14)\n",
        "\n",
        "    plt.grid()\n",
        "    plt.show()"
      ]
    },
    {
      "cell_type": "code",
      "execution_count": 63,
      "metadata": {
        "colab": {
          "base_uri": "https://localhost:8080/"
        },
        "id": "MSjoE84mHyxy",
        "outputId": "457c3f93-ced9-4e9e-8dbf-51798c227edc"
      },
      "outputs": [
        {
          "name": "stdout",
          "output_type": "stream",
          "text": [
            "Epoch 0/24\n",
            "----------\n",
            "train Loss: 2.0551 Acc: 0.1757\n",
            "val Loss: 1.9728 Acc: 0.3310\n",
            "\n",
            "Epoch 1/24\n",
            "----------\n",
            "train Loss: 1.9035 Acc: 0.3253\n",
            "val Loss: 1.8085 Acc: 0.3709\n",
            "\n",
            "Epoch 2/24\n",
            "----------\n",
            "train Loss: 1.7065 Acc: 0.4167\n",
            "val Loss: 1.5438 Acc: 0.4859\n",
            "\n",
            "Epoch 3/24\n",
            "----------\n",
            "train Loss: 1.4237 Acc: 0.5281\n",
            "val Loss: 1.2642 Acc: 0.6197\n",
            "\n",
            "Epoch 4/24\n",
            "----------\n",
            "train Loss: 1.1718 Acc: 0.6235\n",
            "val Loss: 1.0606 Acc: 0.6502\n",
            "\n",
            "Epoch 5/24\n",
            "----------\n",
            "train Loss: 0.9793 Acc: 0.6717\n",
            "val Loss: 0.9670 Acc: 0.6690\n",
            "\n",
            "Epoch 6/24\n",
            "----------\n",
            "train Loss: 0.8965 Acc: 0.6878\n",
            "val Loss: 0.9315 Acc: 0.7089\n",
            "\n",
            "Epoch 7/24\n",
            "----------\n",
            "train Loss: 0.7622 Acc: 0.7560\n",
            "val Loss: 0.8459 Acc: 0.7207\n",
            "\n",
            "Epoch 8/24\n",
            "----------\n",
            "train Loss: 0.6711 Acc: 0.7902\n",
            "val Loss: 0.8306 Acc: 0.7207\n",
            "\n",
            "Epoch 9/24\n",
            "----------\n",
            "train Loss: 0.5904 Acc: 0.8363\n",
            "val Loss: 0.8049 Acc: 0.7488\n",
            "\n",
            "Epoch 10/24\n",
            "----------\n",
            "train Loss: 0.5681 Acc: 0.8163\n",
            "val Loss: 0.7905 Acc: 0.7488\n",
            "\n",
            "Epoch 11/24\n",
            "----------\n",
            "train Loss: 0.4927 Acc: 0.8464\n",
            "val Loss: 0.8069 Acc: 0.7371\n",
            "\n",
            "Epoch 12/24\n",
            "----------\n",
            "train Loss: 0.4313 Acc: 0.8544\n",
            "val Loss: 0.7767 Acc: 0.7371\n",
            "\n",
            "Epoch 13/24\n",
            "----------\n",
            "train Loss: 0.4166 Acc: 0.8715\n",
            "val Loss: 0.7660 Acc: 0.7535\n",
            "\n",
            "Epoch 14/24\n",
            "----------\n",
            "train Loss: 0.4178 Acc: 0.8514\n",
            "val Loss: 0.7347 Acc: 0.7535\n",
            "\n",
            "Epoch 15/24\n",
            "----------\n",
            "train Loss: 0.3462 Acc: 0.8886\n",
            "val Loss: 0.7430 Acc: 0.7582\n",
            "\n",
            "Epoch 16/24\n",
            "----------\n",
            "train Loss: 0.3025 Acc: 0.9016\n",
            "val Loss: 0.7968 Acc: 0.7512\n",
            "\n",
            "Epoch 17/24\n",
            "----------\n",
            "train Loss: 0.3003 Acc: 0.9016\n",
            "val Loss: 0.7139 Acc: 0.7653\n",
            "\n",
            "Epoch 18/24\n",
            "----------\n",
            "train Loss: 0.2814 Acc: 0.9106\n",
            "val Loss: 0.7460 Acc: 0.7653\n",
            "\n",
            "Epoch 19/24\n",
            "----------\n",
            "train Loss: 0.2406 Acc: 0.9287\n",
            "val Loss: 0.7658 Acc: 0.7653\n",
            "\n",
            "Epoch 20/24\n",
            "----------\n",
            "train Loss: 0.2441 Acc: 0.9177\n",
            "val Loss: 0.7863 Acc: 0.7676\n",
            "\n",
            "Epoch 21/24\n",
            "----------\n",
            "train Loss: 0.2210 Acc: 0.9438\n",
            "val Loss: 0.7597 Acc: 0.7629\n",
            "\n",
            "Epoch 22/24\n",
            "----------\n",
            "train Loss: 0.2022 Acc: 0.9398\n",
            "val Loss: 0.7569 Acc: 0.7746\n",
            "\n",
            "Epoch 23/24\n",
            "----------\n",
            "train Loss: 0.1756 Acc: 0.9508\n",
            "val Loss: 0.8506 Acc: 0.7418\n",
            "\n",
            "Epoch 24/24\n",
            "----------\n",
            "train Loss: 0.2060 Acc: 0.9267\n",
            "val Loss: 0.7534 Acc: 0.7746\n",
            "\n",
            "Training complete in 3m 26s\n"
          ]
        }
      ],
      "source": [
        "criterion = nn.CrossEntropyLoss()\n",
        "\n",
        "loss, acc, total_time = train_model(model, image_loaders, criterion, num_epochs=num_epochs, device=my_device)"
      ]
    },
    {
      "cell_type": "code",
      "execution_count": 64,
      "metadata": {
        "colab": {
          "base_uri": "https://localhost:8080/",
          "height": 303
        },
        "id": "ePTVUSM9O4Au",
        "outputId": "cd36e001-8803-4721-a2a8-1eb745ae8fdd"
      },
      "outputs": [
        {
          "data": {
            "image/png": "[encoded data removed]",
            "text/plain": [
              "<Figure size 1080x288 with 2 Axes>"
            ]
          },
          "metadata": {
            "needs_background": "light",
            "tags": []
          },
          "output_type": "display_data"
        }
      ],
      "source": [
        "show_progress(loss, acc, 'CrossEntropyLoss', 'Top-1 Accuracy')"
      ]
    },
    {
      "cell_type": "markdown",
      "metadata": {
        "id": "fg5ucToQOQSx"
      },
      "source": [
        "В целом, нейронная сеть показала весьма неплохой результат, достигнув точности $78\\%$ на тестовой выборке. Гиперпараметры были подобраны так, чтобы обеспечить стабильность и устойчивость поведения алгоритма, чего, как мне кажется, удалось достичь."
      ]
    },
    {
      "cell_type": "markdown",
      "metadata": {
        "id": "WLBfc34Qx__y"
      },
      "source": [
        "# Дополнительная часть\n",
        "\n",
        "## Формирование датасета"
      ]
    },
    {
      "cell_type": "code",
      "execution_count": 65,
      "metadata": {
        "id": "ee_EdIinVi7M"
      },
      "outputs": [],
      "source": [
        "from sklearn.cluster import DBSCAN\n",
        "from sklearn.cluster import KMeans\n",
        "from sklearn.cluster import AgglomerativeClustering\n",
        "from sklearn.manifold import TSNE\n",
        "\n",
        "import seaborn as sns\n",
        "\n",
        "import xgboost\n",
        "from sklearn.metrics import silhouette_score, accuracy_score\n",
        "from sklearn.model_selection import train_test_split"
      ]
    },
    {
      "cell_type": "markdown",
      "metadata": {
        "id": "dYOIO0ASWRDG"
      },
      "source": [
        "Воспользуемся механизмом хуков из библиотеки `pytorch` для того, чтобы получить выходы предпоследнего слоя обученной сети."
      ]
    },
    {
      "cell_type": "code",
      "execution_count": 66,
      "metadata": {
        "id": "O4b9PWB1HJ6j"
      },
      "outputs": [],
      "source": [
        "global encoding\n",
        "\n",
        "def hook_fn(module, input, output):\n",
        "    global encoding\n",
        "    encoding = output\n",
        "\n",
        "hook = model.classifier[-2].register_forward_hook(hook_fn)"
      ]
    },
    {
      "cell_type": "markdown",
      "metadata": {
        "id": "7D9_ozWtXBFr"
      },
      "source": [
        "Данная функция преобразует исходный датасет по батчам и агрегирует полученные тензоры в один `numpy` массив."
      ]
    },
    {
      "cell_type": "code",
      "execution_count": 67,
      "metadata": {
        "id": "3RZNETAb6AxK"
      },
      "outputs": [],
      "source": [
        "def get_encoding(model, dataloader, device):\n",
        "    model.eval()\n",
        "    batch_encoding = []\n",
        "    classes = []\n",
        "\n",
        "    for inputs, labels in dataloader:\n",
        "        inputs = inputs.to(device)\n",
        "\n",
        "        outputs = model(inputs)\n",
        "        batch_encoding.append(encoding.cpu().detach())\n",
        "        classes.append(labels)\n",
        "\n",
        "    X = batch_encoding[0]\n",
        "    y = classes[0]\n",
        "\n",
        "    for labels, batch in zip(classes[1:], batch_encoding[1:]):\n",
        "        X = torch.vstack((X, batch))\n",
        "        y = torch.hstack((y, labels))\n",
        "\n",
        "    return X.numpy(), y.numpy()"
      ]
    },
    {
      "cell_type": "markdown",
      "metadata": {
        "id": "YlbdFUFIYC8u"
      },
      "source": [
        "Воспользуемся уже имеющимся разбиением на обучающую и тестовую выборки для последующих экспериментов. Однако для следующего раздела нам понадобится объединённый (целый) датасет."
      ]
    },
    {
      "cell_type": "code",
      "execution_count": 68,
      "metadata": {
        "id": "2DyBd5jW9hZl"
      },
      "outputs": [],
      "source": [
        "X_train, y_train = get_encoding(model, image_loaders['train'], my_device)\n",
        "X_test, y_test = get_encoding(model, image_loaders['val'], my_device)\n",
        "\n",
        "X_full = np.vstack((X_train, X_test))\n",
        "y_full = np.hstack((y_train, y_test))"
      ]
    },
    {
      "cell_type": "markdown",
      "metadata": {
        "id": "ZuNilw4QK2WK"
      },
      "source": [
        "## Кластеризация\n",
        "\n",
        "Поскольку анализировать кластеры \"вслепую\" достаточно проблематично, воспользуемся популярным алгоритмом понижения размерности данных - `t-SNE`. \n",
        "\n",
        "Этот метод не позволяет добавлять в полученное пространство признаков новые данные, однако прекрасно подходит для визуализации. Стоит отметить, что `t-SNE` склонен представлять объекты в виде выпуклых кластеров, хотя такое представление не всегда соответствует действительности."
      ]
    },
    {
      "cell_type": "code",
      "execution_count": 81,
      "metadata": {
        "id": "RLBUyquWCiH5"
      },
      "outputs": [],
      "source": [
        "tfidf_embed = TSNE(n_components=2).fit_transform(X_full)"
      ]
    },
    {
      "cell_type": "code",
      "execution_count": 83,
      "metadata": {
        "colab": {
          "base_uri": "https://localhost:8080/",
          "height": 281
        },
        "id": "5QJe4410HHk2",
        "outputId": "d7834823-b9d0-49cf-87c6-9624a6f6b2ed"
      },
      "outputs": [
        {
          "data": {
            "image/png": "[encoded data removed]",
            "text/plain": [
              "<Figure size 432x288 with 2 Axes>"
            ]
          },
          "metadata": {
            "needs_background": "light",
            "tags": []
          },
          "output_type": "display_data"
        }
      ],
      "source": [
        "plt.scatter(x=tfidf_embed[:,0], y=tfidf_embed[:,1], c=y_full, cmap=\"Accent\")\n",
        "plt.title('Ground truth class labeling')\n",
        "\n",
        "cb = plt.colorbar()\n",
        "loc = np.arange(0, max(y_full), max(y_full) / num_classes)\n",
        "cb.set_ticks(loc)\n",
        "cb.set_ticklabels(sorted(os.listdir(DATA_PATH)))\n",
        "plt.show()"
      ]
    },
    {
      "cell_type": "markdown",
      "metadata": {
        "id": "dWv5hZ3OcQUG"
      },
      "source": [
        "Рассмотрим полученное представление. В нашем случае объекты действительно образуют кластеры. Как мы видим из разметки, каждому такому кластеру соответсвует свой класс в исходной выборке. \n",
        "\n",
        "Такого удачного разбиения нам удалось добиться благодаря природе данных. Предпоследний слой нейронной сети преобразует признаковое пространство к такому виду, что классы в нём линейно разделимы. Именно поэтому проекция `t-SNE` получилась столь удачной.\n",
        "\n",
        "Однако, как мы видим, некоторые кластеры зашумлены объектами из чужих классов. Это связано с тем, что алгоритм имеет не стопроцентную точность и может ошибаться. Повышение размерности признакового пространства помогло бы фактически увеличить расстояние между кластерами и улучшить результат классификации. Но, как уже упоминалось выше, этот прирост столь незначителен, что я решил сфокусироваться на борьбе с проклятием размерности.\n",
        "\n",
        "Ниже приведены результаты кластеризации двух алгоритмов (K средних и иерархическая кластеризация), которые как раз хорошо выделяют выпуклые кластеры. Я решил использовать в обоих случаях евклидово расстояние, потому что именно оно обычно подразумевается в контексте линейной разделимости. Также мне показалось уместным выделить $8$ кластеров, по одному на каждый класс, ведь на основе этой информации строилось рассматриваемое признаковое пространство. \n",
        "\n",
        "Кроме того будем измерять коэффициент силуэта, чтобы иметь возможность сравнить используемые методы."
      ]
    },
    {
      "cell_type": "code",
      "execution_count": 84,
      "metadata": {
        "colab": {
          "base_uri": "https://localhost:8080/",
          "height": 298
        },
        "id": "CCVKvERxEjDZ",
        "outputId": "0f631133-aa20-4757-bcb9-b5b35ab31552"
      },
      "outputs": [
        {
          "data": {
            "image/png": "[encoded data removed]",
            "text/plain": [
              "<Figure size 432x288 with 1 Axes>"
            ]
          },
          "metadata": {
            "needs_background": "light",
            "tags": []
          },
          "output_type": "display_data"
        },
        {
          "name": "stdout",
          "output_type": "stream",
          "text": [
            "Silhouette score:  0.23486687\n"
          ]
        }
      ],
      "source": [
        "kmeans_alg = KMeans(n_clusters=num_classes).fit(X_full)\n",
        "kmeans = kmeans_alg.predict(X_full)\n",
        "\n",
        "plt.scatter(x=tfidf_embed[:,0], y=tfidf_embed[:,1], c=kmeans, cmap=\"Accent\")\n",
        "plt.title('K-means clustering result')\n",
        "plt.show()\n",
        "print('Silhouette score: ', silhouette_score(X_full, kmeans))"
      ]
    },
    {
      "cell_type": "code",
      "execution_count": 85,
      "metadata": {
        "colab": {
          "base_uri": "https://localhost:8080/",
          "height": 298
        },
        "id": "VDcJ-f2cHCo2",
        "outputId": "b0572fa3-0f24-4bbb-ce5b-421d7b71a6db"
      },
      "outputs": [
        {
          "data": {
            "image/png": "[encoded data removed]",
            "text/plain": [
              "<Figure size 432x288 with 1 Axes>"
            ]
          },
          "metadata": {
            "needs_background": "light",
            "tags": []
          },
          "output_type": "display_data"
        },
        {
          "name": "stdout",
          "output_type": "stream",
          "text": [
            "Silhouette score:  0.21116687\n"
          ]
        }
      ],
      "source": [
        "hierarchical = AgglomerativeClustering(n_clusters=num_classes).fit_predict(X_full)\n",
        "\n",
        "\n",
        "plt.scatter(x=tfidf_embed[:,0], y=tfidf_embed[:,1], c=hierarchical, cmap=\"Accent\")\n",
        "plt.title('Hierarchical clustering result')\n",
        "plt.show()\n",
        "print('Silhouette score: ', silhouette_score(X_full, hierarchical))"
      ]
    },
    {
      "cell_type": "markdown",
      "metadata": {
        "id": "WIrE_wiPERyd"
      },
      "source": [
        "Как мы видим, оба алгоритма неплохо справились с задачей кластеризации, их показатели практически идентичны. Однако они оба не смогли распознать один кластер. \n",
        "\n",
        "Это связано с дисбалансом классов в обучающей выборке. Стили `ArtDeco` и `cartoon` в некотором смысле похожи, а также одинаково мало представлены в выборке. Из-за этого почти всегда они попадают в один кластер, а доплнительное внимание притягивает на себя класс `Cubism`, который, наоборот, имеет в выборке слишком много объектов.\n",
        "\n",
        "При попытке файнтьюнинга алгоритма, мы сталкиваемся со слиянием или разделением других кластеров, поскольку точность исходной сети всё же не идеальна, и кластеры могут наслаиваться друг на друга."
      ]
    },
    {
      "cell_type": "code",
      "execution_count": 73,
      "metadata": {
        "colab": {
          "base_uri": "https://localhost:8080/"
        },
        "id": "pn8jAaKbITyE",
        "outputId": "d255099d-2c92-40de-8be4-0293870c7342"
      },
      "outputs": [
        {
          "name": "stdout",
          "output_type": "stream",
          "text": [
            "Number of instances for each class: \n",
            "    ArtDeco      \t 65\n",
            "    Cubism       \t 365\n",
            "    Impressionism\t 240\n",
            "    Japonism     \t 203\n",
            "    Naturalism   \t 218\n",
            "    Rococo       \t 117\n",
            "    cartoon      \t 75\n",
            "    photo        \t 139\n"
          ]
        }
      ],
      "source": [
        "print('Number of instances for each class: ')\n",
        "for class_num, class_name in enumerate(sorted(os.listdir(DATA_PATH))):\n",
        "    sp = (13 - len(class_name)) * ' '\n",
        "    print('    ' + class_name + sp + '\\t', (y_full == class_num).sum())"
      ]
    },
    {
      "cell_type": "markdown",
      "metadata": {
        "id": "VOtMqSYLNYtj"
      },
      "source": [
        "Используя алгоритм `K-means`, изучим наиболее типичных представителей каждого кластрета, то есть координаты их центров. Поскольку размерность признакового пространства довольно высока, изобразим результаты с помощью `heatmap`."
      ]
    },
    {
      "cell_type": "code",
      "execution_count": 107,
      "metadata": {
        "colab": {
          "base_uri": "https://localhost:8080/",
          "height": 236
        },
        "id": "rexfk_CuJq87",
        "outputId": "e9b9df84-fa2a-497b-b1e0-d37ca1fe0090"
      },
      "outputs": [
        {
          "data": {
            "image/png": "[encoded data removed]",
            "text/plain": [
              "<Figure size 1800x216 with 2 Axes>"
            ]
          },
          "metadata": {
            "needs_background": "light",
            "tags": []
          },
          "output_type": "display_data"
        }
      ],
      "source": [
        "plt.figure(figsize=(25,3))\n",
        "plt.title(\"Coordiantes of clusters' centers\")\n",
        "plt.xlabel('feature number')\n",
        "plt.ylabel('cluster number')\n",
        "sns.heatmap(kmeans_alg.cluster_centers_)\n",
        "plt.show()"
      ]
    },
    {
      "cell_type": "markdown",
      "metadata": {
        "id": "m89PTWlOOMTB"
      },
      "source": [
        "В признаковых описаниях довольно много нулевых значений, потому что мы работаем со слоем сети после применения функции `ReLu`. \n",
        "\n",
        "В целом, из этих данных довольно сложно выловить какую-либо полезную информацию. Можно сказать лишь, что классы `Rococo` и `Naturalism` (номера $6$ и $7$) довольно похожи, что в целом соответствует действительности."
      ]
    },
    {
      "cell_type": "markdown",
      "metadata": {
        "id": "fhV1iviCdj4Y"
      },
      "source": [
        "## Градиентный бустинг на нейросетевых эмбедингах\n",
        "\n",
        "Теперь попробуем обучить градиентный бустинг на полученном признаковом представлении изображений. Результат работы `XGBoost` сравним с качеством работы исходной нейронной сети."
      ]
    },
    {
      "cell_type": "code",
      "execution_count": 87,
      "metadata": {
        "colab": {
          "base_uri": "https://localhost:8080/"
        },
        "id": "OJGzqdwUNYes",
        "outputId": "341acfc6-fb7b-4e3f-c2ae-6f46acb89372"
      },
      "outputs": [
        {
          "name": "stdout",
          "output_type": "stream",
          "text": [
            "Untuned XGBoost accuracy:  0.7676\n"
          ]
        }
      ],
      "source": [
        "xgb = xgboost.XGBClassifier(objective=\"multi:softprob\", use_label_encoder=False)\n",
        "xgb.fit(X_train, y_train)\n",
        "y_pred = xgb.predict(X_test)\n",
        "\n",
        "print('Untuned XGBoost accuracy: ', round(accuracy_score(y_test, y_pred), 4))"
      ]
    },
    {
      "cell_type": "code",
      "execution_count": 101,
      "metadata": {
        "colab": {
          "base_uri": "https://localhost:8080/"
        },
        "id": "NMKuasLmR6sH",
        "outputId": "ac25f111-caf0-4177-b49d-607da562a9b9"
      },
      "outputs": [
        {
          "name": "stdout",
          "output_type": "stream",
          "text": [
            "VGG 13 accuracy:  0.7746\n"
          ]
        }
      ],
      "source": [
        "print('VGG 13 accuracy: ', round(float(acc[-1].cpu().numpy()), 4))"
      ]
    },
    {
      "cell_type": "markdown",
      "metadata": {
        "id": "ooMaCOb2PbDo"
      },
      "source": [
        "Не настроенный градиентный бустинг проигрывает по качеству нейронной сети, но перед формированием окончательных выводов стоит попробовать подобрать для него оптимальные гиперпараметры. \n",
        "\n",
        "При этом, чтобы избежать переобучения алгоритма, валидационную выборку стоит брать из теста, потому что обучающая выборка и так линейно разделима в рассматриваемом пространстве."
      ]
    },
    {
      "cell_type": "code",
      "execution_count": 130,
      "metadata": {
        "colab": {
          "base_uri": "https://localhost:8080/"
        },
        "id": "XqDUKkE3SNT2",
        "outputId": "f878d136-c4bf-45df-95c5-f0bdda0bcc4f"
      },
      "outputs": [
        {
          "name": "stdout",
          "output_type": "stream",
          "text": [
            "Best XGBoost parameters: \n",
            "    n_estimators =  100\n",
            "    max_depth =  4\n",
            "   learning_rate =  0.1\n"
          ]
        }
      ],
      "source": [
        "X_test_1, X_val, y_test_1, y_val = train_test_split(X_test, y_test, test_size=0.5, random_state=42)\n",
        "\n",
        "print('Best XGBoost parameters: ')\n",
        "\n",
        "n_trees = [1, 5, 10, 100, 200, 300, 400, 500, 600, 700]\n",
        "scores = []\n",
        "for n in n_trees:\n",
        "    xgb = xgboost.XGBClassifier(n_estimators=n, objective=\"multi:softprob\", use_label_encoder=False)\n",
        "    xgb.fit(X_train, y_train)\n",
        "    scores.append(accuracy_score(y_val, xgb.predict(X_val)))\n",
        "\n",
        "best_n_estimators = n_trees[np.argmax(scores)]\n",
        "print('    n_estimators = ', best_n_estimators)\n",
        "\n",
        "depth = list(range(1, 11, 3))\n",
        "scores = []\n",
        "for d in depth:\n",
        "    xgb = xgboost.XGBClassifier(n_estimators=best_n_estimators, max_depth=d, objective=\"multi:softprob\", use_label_encoder=False)\n",
        "    xgb.fit(X_train, y_train)\n",
        "    scores.append(accuracy_score(y_val, xgb.predict(X_val)))\n",
        "\n",
        "best_max_depth = depth[np.argmax(scores)]\n",
        "print('    max_depth = ', best_max_depth)\n",
        "\n",
        "rate = np.logspace(-1, -3, 3)\n",
        "scores = []\n",
        "for l in rate:\n",
        "    xgb = xgboost.XGBClassifier(n_estimators=best_n_estimators, max_depth=best_max_depth, learning_rate=l, \n",
        "                                                            objective=\"multi:softprob\", use_label_encoder=False)\n",
        "    xgb.fit(X_train, y_train)\n",
        "    scores.append(accuracy_score(y_val, xgb.predict(X_val)))\n",
        "\n",
        "best_learning_rate = rate[np.argmax(scores)]\n",
        "print('   learning_rate = ', best_learning_rate)"
      ]
    },
    {
      "cell_type": "code",
      "execution_count": 131,
      "metadata": {
        "colab": {
          "base_uri": "https://localhost:8080/"
        },
        "id": "ljA21XRNU9NC",
        "outputId": "3867796c-df8a-41fe-d742-98c28936535a"
      },
      "outputs": [
        {
          "name": "stdout",
          "output_type": "stream",
          "text": [
            "Tuned XGBoost accuracy:  0.784\n"
          ]
        }
      ],
      "source": [
        "xgb = xgboost.XGBClassifier(n_estimators=best_n_estimators, max_depth=best_max_depth, learning_rate=best_learning_rate, \n",
        "                                                          objective=\"multi:softprob\", use_label_encoder=False)\n",
        "xgb.fit(X_train, y_train)\n",
        "y_pred = xgb.predict(X_test_1)\n",
        "\n",
        "print('Tuned XGBoost accuracy: ', round(accuracy_score(y_test_1, y_pred), 4))"
      ]
    },
    {
      "cell_type": "markdown",
      "metadata": {
        "id": "gslSPyW-PiGP"
      },
      "source": [
        "На этот раз градиентный бустинг по точности превзошёл \"голую\" нейронную сеть.\n",
        "\n",
        "Выход последнего слоя сети предполагает линейную разделимость данных, `XGBoost` же способен исправить минорные ошибки линейного классификатора и обойти его по качеству.\n",
        "\n",
        "Таким образом, бустинг может дать прирост в точности при грамотном подборе параметров. Однако для боллее значительного увеличения показателей стоит всё же оптимизировать архитектуру сети."
      ]
    }
  ],
  "metadata": {
    "accelerator": "GPU",
    "colab": {
      "name": "Sidorov_task1.ipynb",
      "provenance": []
    },
    "interpreter": {
      "hash": "31f2aee4e71d21fbe5cf8b01ff0e069b9275f58929596ceb00d14d90e3e16cd6"
    },
    "kernelspec": {
      "display_name": "Python 3.8.2 64-bit",
      "name": "python3"
    },
    "language_info": {
      "name": "python",
      "version": ""
    },
    "orig_nbformat": 2
  },
  "nbformat": 4,
  "nbformat_minor": 0
}